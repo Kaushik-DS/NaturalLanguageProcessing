{
 "cells": [
  {
   "cell_type": "markdown",
   "metadata": {},
   "source": [
    "# a.Import all neccessary packages."
   ]
  },
  {
   "cell_type": "code",
   "execution_count": 28,
   "metadata": {},
   "outputs": [],
   "source": [
    "import chardet\n",
    "import json_lines\n",
    "import pandas as pd\n",
    "import numpy as np\n",
    "import emoji\n",
    "import re\n",
    "import google_trans_new"
   ]
  },
  {
   "cell_type": "markdown",
   "metadata": {},
   "source": [
    "# b.Import the required php file."
   ]
  },
  {
   "cell_type": "code",
   "execution_count": 29,
   "metadata": {},
   "outputs": [],
   "source": [
    "x = []\n",
    "y = []\n",
    "z = []\n",
    "with open(r'C:\\Users\\gowtham\\finale_Exam.php', 'rb') as f:\n",
    "    for items in json_lines.reader(f):\n",
    "        x.append(items['text'])  # Review text\n",
    "        y.append(items['voted_up']) # True when game recommended by the user\n",
    "        z.append(items['early_access']) #True when the review is for beta version."
   ]
  },
  {
   "cell_type": "markdown",
   "metadata": {},
   "source": [
    "# c.Performing text data cleaning activity to covert it to English text. "
   ]
  },
  {
   "cell_type": "markdown",
   "metadata": {},
   "source": [
    "### 1. Find the type of encoding performed while extracting data from web."
   ]
  },
  {
   "cell_type": "code",
   "execution_count": 30,
   "metadata": {},
   "outputs": [
    {
     "name": "stdout",
     "output_type": "stream",
     "text": [
      "Chardet: {'encoding': 'utf-8', 'confidence': 0.99, 'language': ''}\n"
     ]
    }
   ],
   "source": [
    "with open(u'C:\\\\Users\\\\gowtham\\\\finale_Exam.php', 'rb') as detect_file_encoding:\n",
    "    detection = chardet.detect(detect_file_encoding.read())# Find the encoding type of php file.\n",
    "    print('Chardet:', detection)"
   ]
  },
  {
   "cell_type": "code",
   "execution_count": 31,
   "metadata": {},
   "outputs": [
    {
     "name": "stdout",
     "output_type": "stream",
     "text": [
      "âœ“\n",
      "Chardet: {'encoding': 'Windows-1252', 'confidence': 0.73, 'language': ''}\n"
     ]
    }
   ],
   "source": [
    "#Within the utf-8 file sometext are not enocoded properly. So we are determing the type of encode used in those sentences.\n",
    "print(x[4])\n",
    "text_file = open(\"Encode_test.txt\", \"w\")\n",
    "text_file.write(\"Line to be tested: {}\".format(x[4]))\n",
    "text_file.close()\n",
    "with open(u'C:\\\\Users\\\\gowtham\\\\Encode_test.txt', 'rb') as detect_line_encoding:\n",
    "    detection_line = chardet.detect(detect_line_encoding.read())# Find the encoding type of php file.\n",
    "    print('Chardet:', detection_line)"
   ]
  },
  {
   "cell_type": "markdown",
   "metadata": {},
   "source": [
    "### 2. Converting badly encoded text to standerized utf-8 encoded one"
   ]
  },
  {
   "cell_type": "code",
   "execution_count": 32,
   "metadata": {},
   "outputs": [
    {
     "name": "stdout",
     "output_type": "stream",
     "text": [
      "Ð˜Ð³Ñ€Ð° Ð¿Ð¾ ÑÐµÐ±Ðµ Ñ…Ð¾Ñ€Ð¾ÑˆÐ°Ñ, Ð½Ð¾ Ñ‡Ð¸Ñ‚Ð°ÐºÐ¾Ð² Ð²ÑÑ‘ Ð±Ð¾Ð»ÑŒÑˆÐµ Ð¸ Ð±Ð¾Ð»ÑŒÑˆÐµ. Ð›ÑƒÑ‡ÑˆÐµ Ð±Ñ‹ Ð²Ð°Ð»Ð² ÑÐ´ÐµÐ»Ð°Ð»Ð¸ ÐµÑ‘ Ð¿Ð»Ð°Ñ‚Ð½Ð¾Ð¹!\n",
      "Игра по ебе хороша, но читаков вё больше и больше. Лучше бы валв делали её платной!\n"
     ]
    }
   ],
   "source": [
    "print (x[1])\n",
    "a = []\n",
    "for i in range(len(x)):\n",
    "    badtext = x[i]\n",
    "    encoded_text = badtext.encode('cp1252','ignore')\n",
    "    goodtext = encoded_text.decode('utf-8','ignore')\n",
    "    a.append(goodtext)\n",
    "    badtext = ''\n",
    "    goodtext = ''\n",
    "print (a[1])"
   ]
  },
  {
   "cell_type": "markdown",
   "metadata": {},
   "source": [
    "### 3. Check for any binary encoded string and convert them to utf-8 characters"
   ]
  },
  {
   "cell_type": "code",
   "execution_count": 33,
   "metadata": {},
   "outputs": [
    {
     "name": "stdout",
     "output_type": "stream",
     "text": [
      "The index number in which the binary string was present:284\n",
      "The index number in which the binary string was present:3350\n",
      "Total binary string in the dataset:2\n"
     ]
    }
   ],
   "source": [
    "tmp_index = []\n",
    "count = 0;\n",
    "for i in range(len(a)):\n",
    "    test_str = set(a[i])\n",
    "    bits = {'0','1'}\n",
    "    if bits == test_str or test_str == {'0'} or test_str == {'1'}:\n",
    "        print (\"The index number in which the binary string was present:{}\".format(i))\n",
    "        tmp_index.append(i)\n",
    "        count = count+1 \n",
    "print (\"Total binary string in the dataset:{}\".format(count))"
   ]
  },
  {
   "cell_type": "code",
   "execution_count": 34,
   "metadata": {},
   "outputs": [
    {
     "name": "stdout",
     "output_type": "stream",
     "text": [
      "01010100010010000100100101010011001000000100100101010011001000000100111001001111010101000010000001000001001000000100011101000001010011010100010100100000010010010101010001010011001000000100000100100000010101110100000101011001001000000100111101000110001000000100110001001001010001100100010100100000010000010100111001000100001000000100110101011001001000000101001001000101010011000100100101000111010010010100111101001110\n",
      "\n",
      " 1\n"
     ]
    }
   ],
   "source": [
    "print (a[284])\n",
    "print (\"\\n\",a[3350])"
   ]
  },
  {
   "cell_type": "code",
   "execution_count": 35,
   "metadata": {},
   "outputs": [
    {
     "name": "stdout",
     "output_type": "stream",
     "text": [
      "The binary converted text: THIS IS NOT A GAME ITS A WAY OF LIFE AND MY RELIGION\n"
     ]
    }
   ],
   "source": [
    "def binaryToDecimal(temp_data):\n",
    "    decimal_String = int(temp_data,2)\n",
    "    return(decimal_String)\n",
    "for i in tmp_index:\n",
    "    binary_data = a[i]\n",
    "    str_data =' '\n",
    "    for j in range(0, len(binary_data), 8):  \n",
    "        temp_data = binary_data[j:j + 8] \n",
    "        decimal_value = binaryToDecimal(temp_data) \n",
    "        str_data = str_data + chr(decimal_value)\n",
    "    a[i]=str_data\n",
    "print(\"The binary converted text:{}\".format(a[284]))"
   ]
  },
  {
   "cell_type": "markdown",
   "metadata": {},
   "source": [
    "### 4. Removing symbols, smilye and other pictorial representation from the text."
   ]
  },
  {
   "cell_type": "code",
   "execution_count": 36,
   "metadata": {},
   "outputs": [
    {
     "name": "stdout",
     "output_type": "stream",
     "text": [
      "♥♥♥ ıuyı\n"
     ]
    }
   ],
   "source": [
    "print(a[5])"
   ]
  },
  {
   "cell_type": "code",
   "execution_count": 37,
   "metadata": {},
   "outputs": [
    {
     "ename": "KeyboardInterrupt",
     "evalue": "",
     "output_type": "error",
     "traceback": [
      "\u001b[1;31m---------------------------------------------------------------------------\u001b[0m",
      "\u001b[1;31mKeyboardInterrupt\u001b[0m                         Traceback (most recent call last)",
      "\u001b[1;32m<ipython-input-37-c5e12b0fcfd5>\u001b[0m in \u001b[0;36m<module>\u001b[1;34m\u001b[0m\n\u001b[0;32m      2\u001b[0m \u001b[1;32mfor\u001b[0m \u001b[0mi\u001b[0m \u001b[1;32min\u001b[0m \u001b[0mrange\u001b[0m\u001b[1;33m(\u001b[0m\u001b[0mlen\u001b[0m\u001b[1;33m(\u001b[0m\u001b[0ma\u001b[0m\u001b[1;33m)\u001b[0m\u001b[1;33m)\u001b[0m\u001b[1;33m:\u001b[0m\u001b[1;33m\u001b[0m\u001b[1;33m\u001b[0m\u001b[0m\n\u001b[0;32m      3\u001b[0m     \u001b[0memoji_free_text\u001b[0m \u001b[1;33m=\u001b[0m \u001b[1;34m''\u001b[0m\u001b[1;33m\u001b[0m\u001b[1;33m\u001b[0m\u001b[0m\n\u001b[1;32m----> 4\u001b[1;33m     \u001b[0memoji_free_text\u001b[0m \u001b[1;33m=\u001b[0m \u001b[0memoji\u001b[0m\u001b[1;33m.\u001b[0m\u001b[0mget_emoji_regexp\u001b[0m\u001b[1;33m(\u001b[0m\u001b[1;33m)\u001b[0m\u001b[1;33m.\u001b[0m\u001b[0msub\u001b[0m\u001b[1;33m(\u001b[0m\u001b[1;34m''\u001b[0m\u001b[1;33m,\u001b[0m \u001b[0ma\u001b[0m\u001b[1;33m[\u001b[0m\u001b[0mi\u001b[0m\u001b[1;33m]\u001b[0m\u001b[1;33m)\u001b[0m\u001b[1;33m\u001b[0m\u001b[1;33m\u001b[0m\u001b[0m\n\u001b[0m\u001b[0;32m      5\u001b[0m     \u001b[0mb\u001b[0m\u001b[1;33m.\u001b[0m\u001b[0mappend\u001b[0m\u001b[1;33m(\u001b[0m\u001b[0memoji_free_text\u001b[0m\u001b[1;33m)\u001b[0m\u001b[1;33m\u001b[0m\u001b[1;33m\u001b[0m\u001b[0m\n",
      "\u001b[1;31mKeyboardInterrupt\u001b[0m: "
     ]
    }
   ],
   "source": [
    "b =[]\n",
    "for i in range(len(a)):\n",
    "    emoji_free_text = ''\n",
    "    emoji_free_text = emoji.get_emoji_regexp().sub('', a[i])\n",
    "    b.append(emoji_free_text) "
   ]
  },
  {
   "cell_type": "code",
   "execution_count": null,
   "metadata": {},
   "outputs": [],
   "source": [
    "print(b[5])"
   ]
  },
  {
   "cell_type": "markdown",
   "metadata": {},
   "source": [
    "### 5. Translating all text present in multiple languages to english"
   ]
  },
  {
   "cell_type": "code",
   "execution_count": null,
   "metadata": {},
   "outputs": [],
   "source": [
    "print (b[0])"
   ]
  },
  {
   "cell_type": "code",
   "execution_count": null,
   "metadata": {},
   "outputs": [],
   "source": [
    "from google_trans_new import google_translator\n",
    "c = []\n",
    "for i in range(len(b)):\n",
    "    try:  \n",
    "        translator = google_translator()\n",
    "        translated = translator.translate(b[i], lang_tgt='en')\n",
    "        c.append(translated)\n",
    "    except:\n",
    "        print (b[i])\n",
    "        c.append(b[i])\n",
    "print [c[0]]"
   ]
  },
  {
   "cell_type": "markdown",
   "metadata": {},
   "source": [
    "# d.Exporting the enslish translated to a csv file for future analysis. "
   ]
  },
  {
   "cell_type": "code",
   "execution_count": 23,
   "metadata": {
    "scrolled": true
   },
   "outputs": [],
   "source": [
    "df_final = pd.DataFrame({\"translated_text\": c,\"voted_up\": y,\"early_access\" : z})\n",
    "df_final.to_csv(\"final_dataset1.csv\")"
   ]
  }
 ],
 "metadata": {
  "kernelspec": {
   "display_name": "Python 3",
   "language": "python",
   "name": "python3"
  },
  "language_info": {
   "codemirror_mode": {
    "name": "ipython",
    "version": 3
   },
   "file_extension": ".py",
   "mimetype": "text/x-python",
   "name": "python",
   "nbconvert_exporter": "python",
   "pygments_lexer": "ipython3",
   "version": "3.7.4"
  }
 },
 "nbformat": 4,
 "nbformat_minor": 2
}
