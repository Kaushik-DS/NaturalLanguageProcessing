{
 "cells": [
  {
   "cell_type": "markdown",
   "metadata": {},
   "source": [
    "# a. Import all the neccessary packages"
   ]
  },
  {
   "cell_type": "code",
   "execution_count": 29,
   "metadata": {},
   "outputs": [],
   "source": [
    "import nltk\n",
    "import pandas as pd\n",
    "import numpy as np\n",
    "from textblob import TextBlob\n",
    "from nltk.corpus import stopwords\n",
    "from nltk.stem.snowball import SnowballStemmer\n",
    "from nltk.tokenize import word_tokenize\n",
    "from nltk.util import ngrams\n",
    "import matplotlib.pyplot as plt\n",
    "import seaborn as sns\n",
    "import re\n",
    "import warnings"
   ]
  },
  {
   "cell_type": "markdown",
   "metadata": {},
   "source": [
    "# b. Import the Modified dataset."
   ]
  },
  {
   "cell_type": "code",
   "execution_count": 30,
   "metadata": {},
   "outputs": [
    {
     "data": {
      "text/plain": [
       "Index(['Unnamed: 0', 'translated_text', 'voted_up', 'early_access'], dtype='object')"
      ]
     },
     "execution_count": 30,
     "metadata": {},
     "output_type": "execute_result"
    }
   ],
   "source": [
    "train_set = pd.read_csv('final_dataset.csv')\n",
    "train_set.columns"
   ]
  },
  {
   "cell_type": "markdown",
   "metadata": {},
   "source": [
    "# c. Basic text modelling and cleaning activities."
   ]
  },
  {
   "cell_type": "markdown",
   "metadata": {},
   "source": [
    "### 1. Dropping unwanted column values and filling empty values present in 'translated_text' with empty string."
   ]
  },
  {
   "cell_type": "code",
   "execution_count": 31,
   "metadata": {},
   "outputs": [
    {
     "data": {
      "text/html": [
       "<div>\n",
       "<style scoped>\n",
       "    .dataframe tbody tr th:only-of-type {\n",
       "        vertical-align: middle;\n",
       "    }\n",
       "\n",
       "    .dataframe tbody tr th {\n",
       "        vertical-align: top;\n",
       "    }\n",
       "\n",
       "    .dataframe thead th {\n",
       "        text-align: right;\n",
       "    }\n",
       "</style>\n",
       "<table border=\"1\" class=\"dataframe\">\n",
       "  <thead>\n",
       "    <tr style=\"text-align: right;\">\n",
       "      <th></th>\n",
       "      <th>translated_text</th>\n",
       "      <th>voted_up</th>\n",
       "      <th>early_access</th>\n",
       "    </tr>\n",
       "  </thead>\n",
       "  <tbody>\n",
       "    <tr>\n",
       "      <td>0</td>\n",
       "      <td>that</td>\n",
       "      <td>True</td>\n",
       "      <td>False</td>\n",
       "    </tr>\n",
       "    <tr>\n",
       "      <td>1</td>\n",
       "      <td>The game is good, but there are more and more ...</td>\n",
       "      <td>True</td>\n",
       "      <td>False</td>\n",
       "    </tr>\n",
       "    <tr>\n",
       "      <td>2</td>\n",
       "      <td>Very unique experience for sure, we need more ...</td>\n",
       "      <td>True</td>\n",
       "      <td>False</td>\n",
       "    </tr>\n",
       "    <tr>\n",
       "      <td>3</td>\n",
       "      <td>It needs work in areas, namely graphics, stabi...</td>\n",
       "      <td>True</td>\n",
       "      <td>True</td>\n",
       "    </tr>\n",
       "    <tr>\n",
       "      <td>4</td>\n",
       "      <td>✓</td>\n",
       "      <td>True</td>\n",
       "      <td>False</td>\n",
       "    </tr>\n",
       "  </tbody>\n",
       "</table>\n",
       "</div>"
      ],
      "text/plain": [
       "                                     translated_text  voted_up  early_access\n",
       "0                                              that       True         False\n",
       "1  The game is good, but there are more and more ...      True         False\n",
       "2  Very unique experience for sure, we need more ...      True         False\n",
       "3  It needs work in areas, namely graphics, stabi...      True          True\n",
       "4                                                 ✓       True         False"
      ]
     },
     "execution_count": 31,
     "metadata": {},
     "output_type": "execute_result"
    }
   ],
   "source": [
    "train_set.drop(columns = ['Unnamed: 0'], axis = 1, inplace = True)\n",
    "train_set['translated_text'] = train_set['translated_text'].fillna(\" \")\n",
    "train_set.head()"
   ]
  },
  {
   "cell_type": "markdown",
   "metadata": {},
   "source": [
    "### 2. Converting boolean characters in 'voted_up' and 'early_access' to its numeric equivalent."
   ]
  },
  {
   "cell_type": "code",
   "execution_count": 32,
   "metadata": {
    "scrolled": false
   },
   "outputs": [
    {
     "name": "stdout",
     "output_type": "stream",
     "text": [
      "\n",
      " Target_Arr[voted_up] [1 1 1 ... 0 0 0]\n",
      "\n",
      " Length of Target_ARR[voted_up] 5000\n",
      "\n",
      "0 :  2500\n",
      "\n",
      "1 :  2500\n"
     ]
    },
    {
     "data": {
      "image/png": "[encoded data removed]",
      "text/plain": [
       "<Figure size 432x288 with 1 Axes>"
      ]
     },
     "metadata": {
      "needs_background": "light"
     },
     "output_type": "display_data"
    },
    {
     "name": "stdout",
     "output_type": "stream",
     "text": [
      "\n",
      " Target_Arr[early_access] [0 0 0 ... 0 1 0]\n",
      "\n",
      " Length of Target_ARR[early_access] 5000\n",
      "\n",
      "0 :  4468\n",
      "\n",
      "1 :  532\n"
     ]
    },
    {
     "data": {
      "image/png": "[encoded data removed]",
      "text/plain": [
       "<Figure size 432x288 with 1 Axes>"
      ]
     },
     "metadata": {
      "needs_background": "light"
     },
     "output_type": "display_data"
    }
   ],
   "source": [
    "train_set[\"voted_up\"] = train_set[\"voted_up\"].astype(int)\n",
    "train_set[\"early_access\"] = train_set[\"early_access\"].astype(int)\n",
    "train_set.head()\n",
    "warnings.filterwarnings(\"ignore\")\n",
    "\n",
    "target_Arr = np.array([int(i) for i in train_set[\"voted_up\"]])\n",
    "print(\"\\n Target_Arr[voted_up]\",target_Arr)\n",
    "print(\"\\n Length of Target_ARR[voted_up]\",len(target_Arr))\n",
    "count = 0\n",
    "for i in target_Arr:\n",
    "    if i == 0:\n",
    "        count+=1\n",
    "print(\"\\n0 : \",count)\n",
    "print(\"\\n1 : \",len(target_Arr)-count)\n",
    "sns.countplot(train_set.voted_up)\n",
    "plt.title(\"Target labels\")\n",
    "plt.show()\n",
    "target_Array = np.array([int(i) for i in train_set[\"early_access\"]])\n",
    "print(\"\\n Target_Arr[early_access]\",target_Array)\n",
    "print(\"\\n Length of Target_ARR[early_access]\",len(target_Array))\n",
    "count = 0\n",
    "for i in target_Array:\n",
    "    if i == 0:\n",
    "        count+=1\n",
    "print(\"\\n0 : \",count)\n",
    "print(\"\\n1 : \",len(target_Array)-count)\n",
    "sns.countplot(train_set.early_access)\n",
    "plt.title(\"Target labels\")\n",
    "plt.show()"
   ]
  },
  {
   "cell_type": "markdown",
   "metadata": {},
   "source": [
    "### 3. Dropping all rows from dataframe containing non english character in 'translated_text' column. "
   ]
  },
  {
   "cell_type": "code",
   "execution_count": 33,
   "metadata": {},
   "outputs": [
    {
     "data": {
      "text/plain": [
       "(4885, 3)"
      ]
     },
     "execution_count": 33,
     "metadata": {},
     "output_type": "execute_result"
    }
   ],
   "source": [
    "from nltk.corpus import words\n",
    "Word = list(set(words.words()))\n",
    "train_set = train_set[train_set['translated_text'].str.contains('|'.join(Word))]\n",
    "train_set = train_set.reset_index(drop=True)\n",
    "train_set.shape"
   ]
  },
  {
   "cell_type": "markdown",
   "metadata": {},
   "source": [
    "### 4. Converting all characters present in the 'translated_text' column to lower case."
   ]
  },
  {
   "cell_type": "code",
   "execution_count": 34,
   "metadata": {},
   "outputs": [
    {
     "data": {
      "text/plain": [
       "0                                                 that\n",
       "1    the game is good, but there are more and more ...\n",
       "2    very unique experience for sure, we need more ...\n",
       "3    it needs work in areas, namely graphics, stabi...\n",
       "4                                                 good\n",
       "Name: translated_text, dtype: object"
      ]
     },
     "execution_count": 34,
     "metadata": {},
     "output_type": "execute_result"
    }
   ],
   "source": [
    "train_set['translated_text'] = train_set['translated_text'].apply(lambda x: \" \".join(x.lower() for x in x.split()))\n",
    "train_set['translated_text'].head()"
   ]
  },
  {
   "cell_type": "markdown",
   "metadata": {},
   "source": [
    "# d.Feature selection based on certain characterstic of contents present in  'tranlated_text' column."
   ]
  },
  {
   "cell_type": "markdown",
   "metadata": {},
   "source": [
    "### 1. Based on word count as a parameter"
   ]
  },
  {
   "cell_type": "code",
   "execution_count": 39,
   "metadata": {},
   "outputs": [
    {
     "name": "stdout",
     "output_type": "stream",
     "text": [
      "                                     translated_text  voted_up  early_access  \\\n",
      "0                                               that         1             0   \n",
      "1  the game is good, but there are more and more ...         1             0   \n",
      "2  very unique experience for sure, we need more ...         1             0   \n",
      "3  it needs work in areas, namely graphics, stabi...         1             1   \n",
      "4                                               good         1             0   \n",
      "\n",
      "   txt_length  \n",
      "0           4  \n",
      "1          80  \n",
      "2          48  \n",
      "3        1313  \n",
      "4           4  \n"
     ]
    },
    {
     "data": {
      "image/png": "[encoded data removed]",
      "text/plain": [
       "<Figure size 432x288 with 1 Axes>"
      ]
     },
     "metadata": {
      "needs_background": "light"
     },
     "output_type": "display_data"
    },
    {
     "data": {
      "image/png": "[encoded data removed]",
      "text/plain": [
       "<Figure size 432x288 with 1 Axes>"
      ]
     },
     "metadata": {
      "needs_background": "light"
     },
     "output_type": "display_data"
    }
   ],
   "source": [
    "import string\n",
    "#To caluclate length of reviews excluding spaces\n",
    "train_set['txt_length'] = train_set['translated_text'].apply(lambda x: len(x) - x.count(\" \"))\n",
    "print(train_set.head())\n",
    "#Plotting the above findings in terms of histogram to evaluate whether words can be used to classify text. \n",
    "bins = np.linspace(0,200,40)\n",
    "plt.hist(train_set[train_set['voted_up'] == 1]['txt_length'],bins,alpha=0.5,normed=True,label='voted_up')\n",
    "plt.hist(train_set[train_set['voted_up'] == 0]['txt_length'],bins,alpha=0.5,normed=True,label='voted_down')\n",
    "plt.xlabel(\"Range\")\n",
    "plt.ylabel(\"Count\")\n",
    "plt.legend(loc = 'upper left')\n",
    "plt.title(\"Feature Selection\")\n",
    "plt.show()\n",
    "#Plotting the above findings in terms of histogram to evaluate whether words can be used to classify text. \n",
    "bins = np.linspace(0,200,40)\n",
    "plt.hist(train_set[train_set['early_access'] == 1]['txt_length'],bins,alpha=0.5,normed=True,label='beta_version')\n",
    "plt.hist(train_set[train_set['early_access'] == 0]['txt_length'],bins,alpha=0.5,normed=True,label='orginal_version')\n",
    "plt.legend(loc = 'upper right')\n",
    "plt.title(\"Feature Selection\")\n",
    "plt.xlabel(\"Range\")\n",
    "plt.ylabel(\"Count\")\n",
    "plt.show()"
   ]
  },
  {
   "cell_type": "markdown",
   "metadata": {},
   "source": [
    "### 2. Replacing all the special characters present in the 'translated_text' column with '' \"."
   ]
  },
  {
   "cell_type": "code",
   "execution_count": 9,
   "metadata": {},
   "outputs": [
    {
     "data": {
      "text/plain": [
       "0                                                 that\n",
       "1    the game is good but there are more and more c...\n",
       "2    very unique experience for sure we need more o...\n",
       "3    it needs work in areas namely graphics stabili...\n",
       "4                                                 good\n",
       "Name: translated_text, dtype: object"
      ]
     },
     "execution_count": 9,
     "metadata": {},
     "output_type": "execute_result"
    }
   ],
   "source": [
    "train_set['translated_text'] = train_set['translated_text'].str.replace('[^\\w\\s]','')\n",
    "train_set['translated_text'].head()"
   ]
  },
  {
   "cell_type": "markdown",
   "metadata": {},
   "source": [
    "# e. Text Preprocessing Steps"
   ]
  },
  {
   "cell_type": "markdown",
   "metadata": {},
   "source": [
    "### 1. Removing all the stop words present in the 'translated_text' column."
   ]
  },
  {
   "cell_type": "code",
   "execution_count": 10,
   "metadata": {},
   "outputs": [
    {
     "data": {
      "text/plain": [
       "0                                                     \n",
       "1       game good cheats would better valves made paid\n",
       "2                          unique experience sure need\n",
       "3    needs work areas namely graphics stability qui...\n",
       "4                                                 good\n",
       "Name: translated_text, dtype: object"
      ]
     },
     "execution_count": 10,
     "metadata": {},
     "output_type": "execute_result"
    }
   ],
   "source": [
    "stop = stopwords.words('english')\n",
    "train_set['translated_text'] = train_set['translated_text'].apply(lambda x: \" \".join(x for x in x.split() if x not in stop))\n",
    "train_set['translated_text'].head()"
   ]
  },
  {
   "cell_type": "markdown",
   "metadata": {},
   "source": [
    "### 2. Dropping rows containing empty strings within the dataframe."
   ]
  },
  {
   "cell_type": "code",
   "execution_count": 11,
   "metadata": {},
   "outputs": [
    {
     "name": "stdout",
     "output_type": "stream",
     "text": [
      "                                     translated_text  voted_up  early_access  \\\n",
      "0     game good cheats would better valves made paid         1             0   \n",
      "1                        unique experience sure need         1             0   \n",
      "2  needs work areas namely graphics stability qui...         1             1   \n",
      "3                                               good         1             0   \n",
      "4                                    may ________ 00         1             0   \n",
      "\n",
      "   txt_length  \n",
      "0          80  \n",
      "1          48  \n",
      "2        1313  \n",
      "3           4  \n",
      "4          31  \n"
     ]
    },
    {
     "data": {
      "text/plain": [
       "(4844, 4)"
      ]
     },
     "execution_count": 11,
     "metadata": {},
     "output_type": "execute_result"
    }
   ],
   "source": [
    "train_set.replace('', np.nan, inplace=True)\n",
    "train = train_set.dropna()\n",
    "train = train.reset_index(drop=True)\n",
    "print (train.head())\n",
    "train.shape"
   ]
  },
  {
   "cell_type": "markdown",
   "metadata": {},
   "source": [
    "### 3. Correcting spelling mistakes in the  dataframe"
   ]
  },
  {
   "cell_type": "code",
   "execution_count": 12,
   "metadata": {},
   "outputs": [
    {
     "data": {
      "text/plain": [
       "TextBlob(\"bad\")"
      ]
     },
     "execution_count": 12,
     "metadata": {},
     "output_type": "execute_result"
    }
   ],
   "source": [
    "x = \"badd\"\n",
    "TextBlob(x).correct()"
   ]
  },
  {
   "cell_type": "code",
   "execution_count": 13,
   "metadata": {},
   "outputs": [
    {
     "data": {
      "text/plain": [
       "0       game good cheats would better valves made paid\n",
       "1                          unique experience sure need\n",
       "2    needs work areas namely graphics stability qui...\n",
       "3                                                 good\n",
       "4                                      may ________ 00\n",
       "Name: translated_text, dtype: object"
      ]
     },
     "execution_count": 13,
     "metadata": {},
     "output_type": "execute_result"
    }
   ],
   "source": [
    "train['translated_text'].apply(lambda x: str(TextBlob(x).correct()))\n",
    "train['translated_text'].head()"
   ]
  },
  {
   "cell_type": "markdown",
   "metadata": {},
   "source": [
    "### 4. Performing Tokenization of words in 'translated_text' column."
   ]
  },
  {
   "cell_type": "code",
   "execution_count": 14,
   "metadata": {},
   "outputs": [
    {
     "data": {
      "text/plain": [
       "0       game good cheats would better valves made paid\n",
       "1                          unique experience sure need\n",
       "2    needs work areas namely graphics stability qui...\n",
       "3                                                 good\n",
       "4                                      may ________ 00\n",
       "Name: translated_text, dtype: object"
      ]
     },
     "execution_count": 14,
     "metadata": {},
     "output_type": "execute_result"
    }
   ],
   "source": [
    "from nltk.tokenize import word_tokenize\n",
    "train['translated_text'].apply(lambda x:word_tokenize(x.lower()))\n",
    "train['translated_text'].head()"
   ]
  },
  {
   "cell_type": "markdown",
   "metadata": {},
   "source": [
    "### 5. Performing Stemming of words in 'translated_text' column."
   ]
  },
  {
   "cell_type": "code",
   "execution_count": 15,
   "metadata": {},
   "outputs": [
    {
     "data": {
      "text/plain": [
       "0       game good cheats would better valves made paid\n",
       "1                          unique experience sure need\n",
       "2    needs work areas namely graphics stability qui...\n",
       "3                                                 good\n",
       "4                                      may ________ 00\n",
       "Name: translated_text, dtype: object"
      ]
     },
     "execution_count": 15,
     "metadata": {},
     "output_type": "execute_result"
    }
   ],
   "source": [
    "stemmer = SnowballStemmer(\"english\", ignore_stopwords=True)\n",
    "train['translated_text'].apply(lambda x: \" \".join([stemmer.stem(word) for word in x.split()]))\n",
    "train['translated_text'].head()"
   ]
  },
  {
   "cell_type": "markdown",
   "metadata": {},
   "source": [
    "### 6. Performing lemmatization  of words in 'translated_text' column."
   ]
  },
  {
   "cell_type": "code",
   "execution_count": 16,
   "metadata": {},
   "outputs": [
    {
     "name": "stdout",
     "output_type": "stream",
     "text": [
      "bad\n"
     ]
    }
   ],
   "source": [
    "from nltk.stem import WordNetLemmatizer\n",
    "lemmatizer = WordNetLemmatizer()\n",
    "print(lemmatizer.lemmatize(\"worse\", pos=\"a\")) #specifying that worse represent here is adjective "
   ]
  },
  {
   "cell_type": "code",
   "execution_count": 17,
   "metadata": {},
   "outputs": [
    {
     "data": {
      "text/plain": [
       "0    game good cheats would better valves made paid...\n",
       "1    unique experience sure need unique experience ...\n",
       "2    needs work areas namely graphics stability qui...\n",
       "3                                                 good\n",
       "4      may ________ 00 may ________ 00 may ________ 00\n",
       "Name: translated_text, dtype: object"
      ]
     },
     "execution_count": 17,
     "metadata": {},
     "output_type": "execute_result"
    }
   ],
   "source": [
    "train['translated_text'] = train['translated_text'].apply(lambda x: \" \".join([lemmatizer.lemmatize(x) for word in x.split()]))\n",
    "train['translated_text'].head()"
   ]
  },
  {
   "cell_type": "markdown",
   "metadata": {},
   "source": [
    "# f.Splitting of dataset into train and test column "
   ]
  },
  {
   "cell_type": "code",
   "execution_count": 27,
   "metadata": {},
   "outputs": [],
   "source": [
    "#Assign each column Values:\n",
    "train_text=train['translated_text']\n",
    "target1=train.iloc[:,1]\n",
    "target2=train.iloc[:,2]\n",
    "from sklearn.model_selection import train_test_split\n",
    "train_x1,test_x1,train_y1,test_y1 = train_test_split(train_text,target1,test_size = 0.2, random_state = 1)\n",
    "train_x2,test_x2,train_y2,test_y2 = train_test_split(train_text,target2,test_size = 0.2, random_state = 1)"
   ]
  },
  {
   "cell_type": "markdown",
   "metadata": {},
   "source": [
    "# g.Implementation[Machine Learning algorithm]"
   ]
  },
  {
   "cell_type": "code",
   "execution_count": 18,
   "metadata": {},
   "outputs": [],
   "source": [
    "# Import all neccessary package common to all ml models.\n",
    "from sklearn.pipeline import Pipeline\n",
    "from sklearn.model_selection import GridSearchCV\n",
    "from sklearn.feature_extraction.text import CountVectorizer\n",
    "from sklearn.feature_extraction.text import TfidfTransformer"
   ]
  },
  {
   "cell_type": "markdown",
   "metadata": {},
   "source": [
    "### 1. Baseline_Model using dummy classifier"
   ]
  },
  {
   "cell_type": "code",
   "execution_count": 19,
   "metadata": {},
   "outputs": [
    {
     "name": "stdout",
     "output_type": "stream",
     "text": [
      "          Pred:NO  Pred:YES\n",
      "True:NO       487         0\n",
      "True:YES      482         0\n",
      "              precision    recall  f1-score   support\n",
      "\n",
      "           0       0.50      1.00      0.67       487\n",
      "           1       0.00      0.00      0.00       482\n",
      "\n",
      "    accuracy                           0.50       969\n",
      "   macro avg       0.25      0.50      0.33       969\n",
      "weighted avg       0.25      0.50      0.34       969\n",
      "\n",
      "BASELINE MODEL ACCURACY :  0.5025799793601651\n"
     ]
    }
   ],
   "source": [
    "#Dummy classifier for [Voted_up]\n",
    "from sklearn.dummy import DummyClassifier\n",
    "from sklearn import metrics\n",
    "from sklearn.metrics import confusion_matrix\n",
    "from sklearn.metrics import roc_auc_score\n",
    "from sklearn.metrics import roc_curve\n",
    "from sklearn.metrics import classification_report\n",
    "dummy = DummyClassifier(strategy='most_frequent').fit(train_x1,train_y1)\n",
    "y1dummy = dummy.predict(test_x1)\n",
    "cmtx_dummy1 = pd.DataFrame(\n",
    "    confusion_matrix(test_y1, y1dummy), \n",
    "    index=['True:NO', 'True:YES'], \n",
    "    columns=['Pred:NO', 'Pred:YES']\n",
    ")\n",
    "print (cmtx_dummy1)\n",
    "print(classification_report(test_y1, y1dummy, zero_division = 0))\n",
    "accuracy_baseline = metrics.accuracy_score(test_y1,y1dummy)\n",
    "print(\"BASELINE MODEL ACCURACY : \",accuracy_baseline)"
   ]
  },
  {
   "cell_type": "code",
   "execution_count": 20,
   "metadata": {},
   "outputs": [
    {
     "name": "stdout",
     "output_type": "stream",
     "text": [
      "          Pred:NO  Pred:YES\n",
      "True:NO       877         0\n",
      "True:YES       92         0\n",
      "              precision    recall  f1-score   support\n",
      "\n",
      "           0       0.91      1.00      0.95       877\n",
      "           1       0.00      0.00      0.00        92\n",
      "\n",
      "    accuracy                           0.91       969\n",
      "   macro avg       0.45      0.50      0.48       969\n",
      "weighted avg       0.82      0.91      0.86       969\n",
      "\n",
      "BASELINE MODEL ACCURACY :  0.5025799793601651\n"
     ]
    }
   ],
   "source": [
    "#Dummy classifier for [early_access]\n",
    "dummy_ea = DummyClassifier(strategy='most_frequent').fit(train_x2,train_y2)\n",
    "y2dummy = dummy_ea.predict(test_x2)\n",
    "cmtx_dummy2 = pd.DataFrame(\n",
    "    confusion_matrix(test_y2, y2dummy), \n",
    "    index=['True:NO', 'True:YES'], \n",
    "    columns=['Pred:NO', 'Pred:YES']\n",
    ")\n",
    "print (cmtx_dummy2)\n",
    "print(classification_report(test_y2, y2dummy, zero_division = 0))\n",
    "accuracy_baseline = metrics.accuracy_score(test_y1,y2dummy)\n",
    "\n",
    "print(\"BASELINE MODEL ACCURACY : \",accuracy_baseline)"
   ]
  },
  {
   "cell_type": "markdown",
   "metadata": {},
   "source": [
    "### 2.Implementation of multinominal Naive-Bayes classification algorithm"
   ]
  },
  {
   "cell_type": "code",
   "execution_count": 21,
   "metadata": {},
   "outputs": [],
   "source": [
    "#Define the structure of the kNN-Classifier algorithm.\n",
    "from sklearn.naive_bayes import MultinomialNB\n",
    "clf_nb = Pipeline([('vect', CountVectorizer()),\n",
    "                   ('tfidf', TfidfTransformer()),\n",
    "                   ('clf', MultinomialNB())])\n",
    "parameters = {'vect__ngram_range': [(1, 1), (2, 2)],\n",
    "              'vect__max_df':[0.1,0.2,0.3],\n",
    "              'tfidf__use_idf': (True, False),\n",
    "              'clf__alpha': [0.1,0.001, 1, 10, 100]}\n",
    "gs_clf_nb = GridSearchCV(clf_nb, parameters, n_jobs=-1, cv = 5)"
   ]
  },
  {
   "cell_type": "code",
   "execution_count": 22,
   "metadata": {},
   "outputs": [
    {
     "name": "stdout",
     "output_type": "stream",
     "text": [
      "The right combination values to get best score[voted_up]: {'clf__alpha': 1, 'tfidf__use_idf': True, 'vect__max_df': 0.2, 'vect__ngram_range': (1, 1)}\n",
      "The best score value[voted_up]: 0.760516129032258\n",
      "The accuracy score obtained for test data[voted_up]:\n",
      "0.7750257997936016\n",
      "\n",
      "CONFUSION MATRIX\n",
      "          Pred:NO  Pred:YES\n",
      "True:NO       421        66\n",
      "True:YES      152       330\n",
      "\n",
      "CLASSIFICATION REPORT\n",
      "              precision    recall  f1-score   support\n",
      "\n",
      "           0       0.73      0.86      0.79       487\n",
      "           1       0.83      0.68      0.75       482\n",
      "\n",
      "    accuracy                           0.78       969\n",
      "   macro avg       0.78      0.77      0.77       969\n",
      "weighted avg       0.78      0.78      0.77       969\n",
      "\n"
     ]
    }
   ],
   "source": [
    "#[voted_up]Naive-Bayes model involving object creation and trainning.\n",
    "gs_clf_nb = gs_clf_nb.fit(train_x1, train_y1)\n",
    "\n",
    "#Outputting the best combination parameters along with accuracy score.\n",
    "print(\"The right combination values to get best score[voted_up]:\",gs_clf_nb.best_params_)\n",
    "print(\"The best score value[voted_up]:\",gs_clf_nb.best_score_)\n",
    "\n",
    "#Predicting the target[voted_up value]\n",
    "y1_predicted_nb = gs_clf_nb.predict(test_x1)\n",
    "print(\"The accuracy score obtained for test data[voted_up]:\")\n",
    "print(np.mean(y1_predicted_nb == test_y1))\n",
    "\n",
    "#Confusion matrics for naive_bayes ml model.\n",
    "cmtx_nb = pd.DataFrame(\n",
    "    confusion_matrix(test_y1, y1_predicted_nb), \n",
    "    index=['True:NO', 'True:YES'], \n",
    "    columns=['Pred:NO', 'Pred:YES']\n",
    ")\n",
    "print(\"\\nCONFUSION MATRIX\")\n",
    "print (cmtx_nb)\n",
    "print(\"\\nCLASSIFICATION REPORT\")\n",
    "print(classification_report(test_y1, y1_predicted_nb, zero_division = 0))\n",
    "fpr_nb, tpr_nb, threshold = roc_curve(test_y1, y1_predicted_nb)"
   ]
  },
  {
   "cell_type": "code",
   "execution_count": 23,
   "metadata": {},
   "outputs": [
    {
     "name": "stdout",
     "output_type": "stream",
     "text": [
      "The right combination values to get best score[early_access]: {'clf__alpha': 1, 'tfidf__use_idf': True, 'vect__max_df': 0.1, 'vect__ngram_range': (1, 1)}\n",
      "The best score value[early_access]: 0.8895483870967743\n",
      "The accuracy score obtained for test data[early_access]:\n",
      "0.9050567595459237\n",
      "\n",
      "CONFUSION MATRIX\n",
      "          Pred:NO  Pred:YES\n",
      "True:NO       877         0\n",
      "True:YES       92         0\n",
      "\n",
      "CLASSIFICATION REPORT\n",
      "              precision    recall  f1-score   support\n",
      "\n",
      "           0       0.91      1.00      0.95       877\n",
      "           1       0.00      0.00      0.00        92\n",
      "\n",
      "    accuracy                           0.91       969\n",
      "   macro avg       0.45      0.50      0.48       969\n",
      "weighted avg       0.82      0.91      0.86       969\n",
      "\n"
     ]
    }
   ],
   "source": [
    "#[early_access]Naive-Bayes model involving object creation and trainning.\n",
    "gs_clf_nb_ea = gs_clf_nb.fit(train_x2, train_y2)\n",
    "\n",
    "#Outputting the best combination parameters along with accuracy score.\n",
    "print(\"The right combination values to get best score[early_access]:\",gs_clf_nb_ea.best_params_)\n",
    "print(\"The best score value[early_access]:\",gs_clf_nb_ea.best_score_)\n",
    "\n",
    "#Predicting the target[early access] value.\n",
    "y2_predicted_nb = gs_clf_nb_ea.predict(test_x2)\n",
    "print(\"The accuracy score obtained for test data[early_access]:\")\n",
    "print(np.mean(y2_predicted_nb == test_y2))\n",
    "\n",
    "#Confusion matrics for naive_bayes ml model.\n",
    "cmtx_nb_ea = pd.DataFrame(\n",
    "    confusion_matrix(test_y2, y2_predicted_nb), \n",
    "    index=['True:NO', 'True:YES'], \n",
    "    columns=['Pred:NO', 'Pred:YES']\n",
    ")\n",
    "print(\"\\nCONFUSION MATRIX\")\n",
    "print (cmtx_nb_ea)\n",
    "print(\"\\nCLASSIFICATION REPORT\")\n",
    "print(classification_report(test_y2, y2_predicted_nb, zero_division = 0))\n",
    "fpr_nb_ea, tpr_nb_ea, threshold = roc_curve(test_y2, y2_predicted_nb)"
   ]
  },
  {
   "cell_type": "markdown",
   "metadata": {},
   "source": [
    "### 3. Implementation of Linear SVM classifier through Stochastic Gradient Descent (SGD) learning."
   ]
  },
  {
   "cell_type": "code",
   "execution_count": 24,
   "metadata": {},
   "outputs": [],
   "source": [
    "#Define the structure of the SVMClassifier through SGD algorithm.\n",
    "from sklearn.linear_model import SGDClassifier\n",
    "clf_sgd_svm = Pipeline([('vect', CountVectorizer()),\n",
    "                        ('tfidf', TfidfTransformer()),\n",
    "                        ('clf-sgd-svm', SGDClassifier(loss='hinge', penalty='l2',n_iter_no_change = 5, random_state=42,\n",
    "                                                      learning_rate = 'optimal')),\n",
    "])\n",
    "parameters_svm = {'vect__ngram_range': [(1, 1), (2, 2)],\n",
    "                  'vect__max_df':[0.1,0.2,0.3],\n",
    "                  'tfidf__use_idf': (True, False),\n",
    "                  'clf-sgd-svm__alpha': (0.1,0.01,0.001, 1, 10)\n",
    "}\n",
    "gs_clf_sgd_svm = GridSearchCV(clf_sgd_svm, parameters_svm, n_jobs=-1, cv = 5)"
   ]
  },
  {
   "cell_type": "code",
   "execution_count": 25,
   "metadata": {},
   "outputs": [
    {
     "name": "stdout",
     "output_type": "stream",
     "text": [
      "The right combination values to get best score[voted_up]: {'clf-sgd-svm__alpha': 0.001, 'tfidf__use_idf': True, 'vect__max_df': 0.1, 'vect__ngram_range': (1, 1)}\n",
      "The best score value[voted_up]: 0.751741935483871\n",
      "The accuracy score obtained for test data[voted_up]:\n",
      "0.7523219814241486\n",
      "\n",
      "CONFUSION MATRIX\n",
      "          Pred:NO  Pred:YES\n",
      "True:NO       381       106\n",
      "True:YES      134       348\n",
      "\n",
      "CLASSIFICATION REPORT\n",
      "              precision    recall  f1-score   support\n",
      "\n",
      "           0       0.74      0.78      0.76       487\n",
      "           1       0.77      0.72      0.74       482\n",
      "\n",
      "    accuracy                           0.75       969\n",
      "   macro avg       0.75      0.75      0.75       969\n",
      "weighted avg       0.75      0.75      0.75       969\n",
      "\n"
     ]
    }
   ],
   "source": [
    "#[voted_up]SVM model object creation and trainning.\n",
    "gs_clf_sgd_svm = gs_clf_sgd_svm.fit(train_x1,train_y1)\n",
    "\n",
    "#Outputting the best combination parameters along with accuracy score.\n",
    "print(\"The right combination values to get best score[voted_up]:\",gs_clf_sgd_svm.best_params_)\n",
    "print(\"The best score value[voted_up]:\",gs_clf_sgd_svm.best_score_)\n",
    "\n",
    "#Predicting the target[voted_up value]\n",
    "y1_predicted_svm = gs_clf_sgd_svm.predict(test_x1)\n",
    "print(\"The accuracy score obtained for test data[voted_up]:\")\n",
    "print(np.mean(y1_predicted_svm == test_y1))\n",
    "\n",
    "#Plotting confusion matrix.\n",
    "cmtx_svm = pd.DataFrame(\n",
    "    confusion_matrix(test_y1, y1_predicted_svm), \n",
    "    index=['True:NO', 'True:YES'], \n",
    "    columns=['Pred:NO', 'Pred:YES']\n",
    ")\n",
    "print(\"\\nCONFUSION MATRIX\")\n",
    "print (cmtx_svm)\n",
    "print(\"\\nCLASSIFICATION REPORT\")\n",
    "print(classification_report(test_y1, y1_predicted_svm, zero_division = 0))\n",
    "fpr_svm, tpr_svm, threshold = roc_curve(test_y1, y1_predicted_svm)"
   ]
  },
  {
   "cell_type": "code",
   "execution_count": 26,
   "metadata": {},
   "outputs": [
    {
     "name": "stdout",
     "output_type": "stream",
     "text": [
      "The right combination values to get best score[early_access]: {'clf-sgd-svm__alpha': 0.1, 'tfidf__use_idf': True, 'vect__max_df': 0.1, 'vect__ngram_range': (1, 1)}\n",
      "The best score value[early_access]: 0.8895483870967743\n",
      "The accuracy score obtained for test data[early_access]:\n",
      "0.9050567595459237\n",
      "\n",
      "CONFUSION MATRIX\n",
      "          Pred:NO  Pred:YES\n",
      "True:NO       877         0\n",
      "True:YES       92         0\n",
      "\n",
      "CLASSIFICATION REPORT\n",
      "              precision    recall  f1-score   support\n",
      "\n",
      "           0       0.91      1.00      0.95       877\n",
      "           1       0.00      0.00      0.00        92\n",
      "\n",
      "    accuracy                           0.91       969\n",
      "   macro avg       0.45      0.50      0.48       969\n",
      "weighted avg       0.82      0.91      0.86       969\n",
      "\n"
     ]
    }
   ],
   "source": [
    "#[early_access]SVM model object creation and trainning.\n",
    "gs_clf_sgd_svm_ea = gs_clf_sgd_svm.fit(train_x2,train_y2)\n",
    "\n",
    "#Outputting the best combination parameters along with accuracy score.\n",
    "print(\"The right combination values to get best score[early_access]:\",gs_clf_sgd_svm_ea.best_params_)\n",
    "print(\"The best score value[early_access]:\",gs_clf_sgd_svm_ea.best_score_)\n",
    "\n",
    "#Predicting the target[early_access value]\n",
    "y2_predicted_svm = gs_clf_sgd_svm_ea.predict(test_x2)\n",
    "print(\"The accuracy score obtained for test data[early_access]:\")\n",
    "print(np.mean(y2_predicted_svm == test_y2))\n",
    "\n",
    "#Confusion matrix[early_access]\n",
    "cmtx_svm_ea = pd.DataFrame(\n",
    "    confusion_matrix(test_y2, y2_predicted_svm), \n",
    "    index=['True:NO', 'True:YES'], \n",
    "    columns=['Pred:NO', 'Pred:YES']\n",
    ")\n",
    "print(\"\\nCONFUSION MATRIX\")\n",
    "print (cmtx_svm_ea)\n",
    "print(\"\\nCLASSIFICATION REPORT\")\n",
    "print(classification_report(test_y2, y2_predicted_svm, zero_division = 0))\n",
    "fpr_svm_ea, tpr_svm_ea, threshold = roc_curve(test_y2, y2_predicted_svm)"
   ]
  },
  {
   "cell_type": "markdown",
   "metadata": {},
   "source": [
    "### 4. Implementation of kNN-Classifier algorithm."
   ]
  },
  {
   "cell_type": "code",
   "execution_count": 27,
   "metadata": {},
   "outputs": [],
   "source": [
    "#Define the structure of the kNN-Classifier algorithm.\n",
    "from sklearn.neighbors import KNeighborsClassifier\n",
    "clf_knn = Pipeline([('vect', CountVectorizer()),\n",
    "                    ('tfidf', TfidfTransformer()),\n",
    "                   ('clf-knn', KNeighborsClassifier(weights='uniform',metric = 'minkowski'))])\n",
    "parameters_knn = {'vect__ngram_range': [(1, 1), (1, 2)],\n",
    "              'vect__max_df':[0.1,0.2,0.3],\n",
    "              'tfidf__use_idf': (True, False),\n",
    "              'clf-knn__n_neighbors': [3,5,7,9]}\n",
    "gs_clf_knn = GridSearchCV(clf_knn, parameters_knn, n_jobs=-1, cv = 5)"
   ]
  },
  {
   "cell_type": "code",
   "execution_count": 28,
   "metadata": {},
   "outputs": [
    {
     "name": "stdout",
     "output_type": "stream",
     "text": [
      "The right combination values to get best score[voted_up]: {'clf-knn__n_neighbors': 5, 'tfidf__use_idf': False, 'vect__max_df': 0.2, 'vect__ngram_range': (1, 1)}\n",
      "The best score value[voted_up]: 0.6095483870967742\n",
      "The accuracy score obtained for test data[voted_up]:\n",
      "0.5985552115583075\n",
      "\n",
      "CONFUSION MATRIX\n",
      "          Pred:NO  Pred:YES\n",
      "True:NO       451        36\n",
      "True:YES      353       129\n",
      "\n",
      "CLASSIFICATION REPORT\n",
      "              precision    recall  f1-score   support\n",
      "\n",
      "           0       0.56      0.93      0.70       487\n",
      "           1       0.78      0.27      0.40       482\n",
      "\n",
      "    accuracy                           0.60       969\n",
      "   macro avg       0.67      0.60      0.55       969\n",
      "weighted avg       0.67      0.60      0.55       969\n",
      "\n"
     ]
    }
   ],
   "source": [
    "#[voted_up]kNN_classifier model object creation and trainning.\n",
    "gs_clf_knn = gs_clf_knn.fit(train_x1, train_y1)\n",
    "\n",
    "#Outputting the best combination parameters along with accuracy score.\n",
    "print(\"The right combination values to get best score[voted_up]:\",gs_clf_knn.best_params_)\n",
    "print(\"The best score value[voted_up]:\",gs_clf_knn.best_score_)\n",
    "\n",
    "#Predicting the target[voted_up value]\n",
    "y1_predicted_knn = gs_clf_knn.predict(test_x1)\n",
    "print(\"The accuracy score obtained for test data[voted_up]:\")\n",
    "print(np.mean(y1_predicted_knn == test_y1))\n",
    "\n",
    "#Confusion matrix[voted_up]\n",
    "cmtx_knn = pd.DataFrame(\n",
    "    confusion_matrix(test_y1, y1_predicted_knn), \n",
    "    index=['True:NO', 'True:YES'], \n",
    "    columns=['Pred:NO', 'Pred:YES']\n",
    ")\n",
    "print(\"\\nCONFUSION MATRIX\")\n",
    "print (cmtx_knn)\n",
    "print(\"\\nCLASSIFICATION REPORT\")\n",
    "print(classification_report(test_y1, y1_predicted_knn, zero_division = 0))\n",
    "fpr_knn, tpr_knn, threshold = roc_curve(test_y1, y1_predicted_knn)"
   ]
  },
  {
   "cell_type": "code",
   "execution_count": 29,
   "metadata": {},
   "outputs": [
    {
     "name": "stdout",
     "output_type": "stream",
     "text": [
      "The right combination values to get best score[early_access]: {'clf-knn__n_neighbors': 7, 'tfidf__use_idf': True, 'vect__max_df': 0.2, 'vect__ngram_range': (1, 2)}\n",
      "The best score value[early_access]: 0.8898064516129033\n",
      "The accuracy score obtained for test data[early_access]:\n",
      "0.9050567595459237\n",
      "\n",
      "CONFUSION MATRIX\n",
      "          Pred:NO  Pred:YES\n",
      "True:NO       877         0\n",
      "True:YES       92         0\n",
      "\n",
      "CLASSIFICATION REPORT\n",
      "              precision    recall  f1-score   support\n",
      "\n",
      "           0       0.91      1.00      0.95       877\n",
      "           1       0.00      0.00      0.00        92\n",
      "\n",
      "    accuracy                           0.91       969\n",
      "   macro avg       0.45      0.50      0.48       969\n",
      "weighted avg       0.82      0.91      0.86       969\n",
      "\n"
     ]
    }
   ],
   "source": [
    "#[early_access]kNN_classifier model object creation and trainning.\n",
    "gs_clf_knn_ea = gs_clf_knn.fit(train_x2, train_y2)\n",
    "\n",
    "#Outputting the best combination parameters along with accuracy score.\n",
    "print(\"The right combination values to get best score[early_access]:\",gs_clf_knn_ea.best_params_)\n",
    "print(\"The best score value[early_access]:\",gs_clf_knn_ea.best_score_)\n",
    "\n",
    "#Predicting the target[early_access value]\n",
    "y2_predicted_knn = gs_clf_knn_ea.predict(test_x2)\n",
    "print(\"The accuracy score obtained for test data[early_access]:\")\n",
    "print(np.mean(y2_predicted_knn == test_y2))\n",
    "\n",
    "#early access [Confusion matrix]\n",
    "cmtx_knn_ea = pd.DataFrame(\n",
    "    confusion_matrix(test_y2, y2_predicted_knn), \n",
    "    index=['True:NO', 'True:YES'], \n",
    "    columns=['Pred:NO', 'Pred:YES']\n",
    ")\n",
    "print(\"\\nCONFUSION MATRIX\")\n",
    "print (cmtx_knn_ea)\n",
    "print(\"\\nCLASSIFICATION REPORT\")\n",
    "print(classification_report(test_y2, y2_predicted_knn, zero_division = 0))\n",
    "fpr_knn_ea, tpr_knn_ea, threshold = roc_curve(test_y2, y2_predicted_knn)"
   ]
  },
  {
   "cell_type": "markdown",
   "metadata": {},
   "source": [
    "# h. Plotting ROC curve and calculating AUC value ( For all Ml models built)"
   ]
  },
  {
   "cell_type": "code",
   "execution_count": 30,
   "metadata": {},
   "outputs": [
    {
     "data": {
      "image/png": "[encoded data removed]",
      "text/plain": [
       "<Figure size 720x504 with 1 Axes>"
      ]
     },
     "metadata": {},
     "output_type": "display_data"
    },
    {
     "name": "stdout",
     "output_type": "stream",
     "text": [
      "\n",
      "AUC Naive-Bayes[voted_up]: 0.775\n",
      "\n",
      "AUC Support_Vector_Machine[voted_up]: 0.752\n",
      "\n",
      "AUC kNearestNeighboursClassifier[voted_up]: 0.597\n"
     ]
    }
   ],
   "source": [
    "#Implementing ROC curve and AUC value[voted_up]\n",
    "from sklearn.metrics import roc_curve\n",
    "plt.rcParams['figure.figsize'] = (10.0,7.0)\n",
    "plt.rcParams['figure.constrained_layout.use']= True\n",
    "plt.rc('font',size=18)\n",
    "plt.plot(fpr_nb, tpr_nb, marker='*',color='red', label='NAIVE-BAYES[MULTINOMIAL]')\n",
    "plt.plot(fpr_svm, tpr_svm, marker='+',color='blue', label='SUPPORT-VECTOR-MACHINE[SGD]')\n",
    "plt.plot(fpr_knn, tpr_knn, marker='X',color='black', label='kNN-CLASSIFIER')\n",
    "plt.plot([0, 1], [0, 1], linestyle='--', label='Random',color ='green')\n",
    "plt.xlabel('FALSE POSITIVE RATE')\n",
    "plt.ylabel('TRUE POSITIVE RATE')\n",
    "plt.legend()\n",
    "plt.title('ROC CURVE[voted_up]')\n",
    "plt.show()\n",
    "auc_nb = roc_auc_score(test_y1,y1_predicted_nb)\n",
    "print('\\nAUC Naive-Bayes[voted_up]: %.3f' % auc_nb)\n",
    "auc_svm = roc_auc_score(test_y1,y1_predicted_svm)\n",
    "print('\\nAUC Support_Vector_Machine[voted_up]: %.3f' % auc_svm)\n",
    "auc_kNN = roc_auc_score(test_y1,y1_predicted_knn)\n",
    "print('\\nAUC kNearestNeighboursClassifier[voted_up]: %.3f' % auc_kNN)"
   ]
  },
  {
   "cell_type": "code",
   "execution_count": 42,
   "metadata": {},
   "outputs": [
    {
     "data": {
      "image/png": "[encoded data removed]",
      "text/plain": [
       "<Figure size 720x504 with 1 Axes>"
      ]
     },
     "metadata": {},
     "output_type": "display_data"
    },
    {
     "name": "stdout",
     "output_type": "stream",
     "text": [
      "\n",
      "AUC Naive-Bayes[early_acess]: 0.500\n",
      "\n",
      "AUC Support_Vector_Machine[early_acess]: 0.500\n",
      "\n",
      "AUC kNearestNeighboursClassifier[early_acess]: 0.500\n"
     ]
    }
   ],
   "source": [
    "#Implementing ROC curve and AUC value[early_access]\n",
    "plt.plot(fpr_nb_ea, tpr_nb_ea, marker='*',color='red', label='NAIVE-BAYES[MULTINOMIAL]')\n",
    "plt.plot(fpr_svm_ea, tpr_svm_ea, marker='+',color='blue', label='SUPPORT-VECTOR-MACHINE[SGD]')\n",
    "plt.plot(fpr_knn_ea, tpr_knn_ea, marker='X',color='black', label='kNN-CLASSIFIER')\n",
    "plt.plot([0, 1], [0, 1], linestyle='--', label='Random+Classifier',color ='green')\n",
    "plt.xlabel('FALSE POSITIVE RATE')\n",
    "plt.ylabel('TRUE POSITIVE RATE')\n",
    "plt.legend()\n",
    "plt.title('ROC CURVE[early_access]')\n",
    "plt.show()\n",
    "auc_nb_ea = metrics.roc_auc_score(test_y2,y2_predicted_nb)\n",
    "print('\\nAUC Naive-Bayes[early_acess]: %.3f' % auc_nb_ea)\n",
    "auc_svm_ea = metrics.roc_auc_score(test_y2,y2_predicted_svm)\n",
    "print('\\nAUC Support_Vector_Machine[early_acess]: %.3f' % auc_svm_ea)\n",
    "auc_kNN_ea = metrics.roc_auc_score(test_y2,y2_predicted_knn)\n",
    "print('\\nAUC kNearestNeighboursClassifier[early_acess]: %.3f' % auc_kNN_ea)"
   ]
  }
 ],
 "metadata": {
  "kernelspec": {
   "display_name": "Python 3",
   "language": "python",
   "name": "python3"
  },
  "language_info": {
   "codemirror_mode": {
    "name": "ipython",
    "version": 3
   },
   "file_extension": ".py",
   "mimetype": "text/x-python",
   "name": "python",
   "nbconvert_exporter": "python",
   "pygments_lexer": "ipython3",
   "version": "3.7.4"
  }
 },
 "nbformat": 4,
 "nbformat_minor": 2
}
